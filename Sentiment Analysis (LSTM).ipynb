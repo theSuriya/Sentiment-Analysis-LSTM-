{
 "cells": [
  {
   "cell_type": "markdown",
   "id": "e84f6cd5",
   "metadata": {},
   "source": [
    "### Lets Import Necessary Modules"
   ]
  },
  {
   "cell_type": "code",
   "execution_count": 1,
   "id": "e6958be8",
   "metadata": {},
   "outputs": [],
   "source": [
    "import pandas as pd\n",
    "import tensorflow as tf\n",
    "import numpy as np\n",
    "import nltk\n",
    "import re\n",
    "from nltk.corpus import stopwords\n",
    "from nltk.stem import PorterStemmer\n",
    "\n",
    "from tensorflow.keras.models import Sequential\n",
    "from tensorflow.keras.layers import LSTM\n",
    "from tensorflow.keras.preprocessing.text import one_hot\n",
    "from tensorflow.keras.layers import Dense\n",
    "from tensorflow.keras.layers import Embedding\n",
    "from tensorflow.keras.preprocessing.sequence import pad_sequences"
   ]
  },
  {
   "cell_type": "code",
   "execution_count": 2,
   "id": "849c6c23",
   "metadata": {},
   "outputs": [],
   "source": [
    "# Load Our Dataset\n",
    "\n",
    "df  = pd.read_csv('sentiment analysis.csv',encoding='latin1')"
   ]
  },
  {
   "cell_type": "code",
   "execution_count": 3,
   "id": "0890f2bb",
   "metadata": {},
   "outputs": [
    {
     "data": {
      "text/html": [
       "<div>\n",
       "<style scoped>\n",
       "    .dataframe tbody tr th:only-of-type {\n",
       "        vertical-align: middle;\n",
       "    }\n",
       "\n",
       "    .dataframe tbody tr th {\n",
       "        vertical-align: top;\n",
       "    }\n",
       "\n",
       "    .dataframe thead th {\n",
       "        text-align: right;\n",
       "    }\n",
       "</style>\n",
       "<table border=\"1\" class=\"dataframe\">\n",
       "  <thead>\n",
       "    <tr style=\"text-align: right;\">\n",
       "      <th></th>\n",
       "      <th>textID</th>\n",
       "      <th>text</th>\n",
       "      <th>selected_text</th>\n",
       "      <th>sentiment</th>\n",
       "      <th>Time of Tweet</th>\n",
       "      <th>Age of User</th>\n",
       "      <th>Country</th>\n",
       "      <th>Population -2020</th>\n",
       "      <th>Land Area (Km²)</th>\n",
       "      <th>Density (P/Km²)</th>\n",
       "    </tr>\n",
       "  </thead>\n",
       "  <tbody>\n",
       "    <tr>\n",
       "      <th>0</th>\n",
       "      <td>cb774db0d1</td>\n",
       "      <td>I`d have responded, if I were going</td>\n",
       "      <td>I`d have responded, if I were going</td>\n",
       "      <td>neutral</td>\n",
       "      <td>morning</td>\n",
       "      <td>0-20</td>\n",
       "      <td>Afghanistan</td>\n",
       "      <td>38928346</td>\n",
       "      <td>652860.0</td>\n",
       "      <td>60</td>\n",
       "    </tr>\n",
       "    <tr>\n",
       "      <th>1</th>\n",
       "      <td>549e992a42</td>\n",
       "      <td>Sooo SAD I will miss you here in San Diego!!!</td>\n",
       "      <td>Sooo SAD</td>\n",
       "      <td>negative</td>\n",
       "      <td>noon</td>\n",
       "      <td>21-30</td>\n",
       "      <td>Albania</td>\n",
       "      <td>2877797</td>\n",
       "      <td>27400.0</td>\n",
       "      <td>105</td>\n",
       "    </tr>\n",
       "    <tr>\n",
       "      <th>2</th>\n",
       "      <td>088c60f138</td>\n",
       "      <td>my boss is bullying me...</td>\n",
       "      <td>bullying me</td>\n",
       "      <td>negative</td>\n",
       "      <td>night</td>\n",
       "      <td>31-45</td>\n",
       "      <td>Algeria</td>\n",
       "      <td>43851044</td>\n",
       "      <td>2381740.0</td>\n",
       "      <td>18</td>\n",
       "    </tr>\n",
       "    <tr>\n",
       "      <th>3</th>\n",
       "      <td>9642c003ef</td>\n",
       "      <td>what interview! leave me alone</td>\n",
       "      <td>leave me alone</td>\n",
       "      <td>negative</td>\n",
       "      <td>morning</td>\n",
       "      <td>46-60</td>\n",
       "      <td>Andorra</td>\n",
       "      <td>77265</td>\n",
       "      <td>470.0</td>\n",
       "      <td>164</td>\n",
       "    </tr>\n",
       "    <tr>\n",
       "      <th>4</th>\n",
       "      <td>358bd9e861</td>\n",
       "      <td>Sons of ****, why couldn`t they put them on t...</td>\n",
       "      <td>Sons of ****,</td>\n",
       "      <td>negative</td>\n",
       "      <td>noon</td>\n",
       "      <td>60-70</td>\n",
       "      <td>Angola</td>\n",
       "      <td>32866272</td>\n",
       "      <td>1246700.0</td>\n",
       "      <td>26</td>\n",
       "    </tr>\n",
       "  </tbody>\n",
       "</table>\n",
       "</div>"
      ],
      "text/plain": [
       "       textID                                               text  \\\n",
       "0  cb774db0d1                I`d have responded, if I were going   \n",
       "1  549e992a42      Sooo SAD I will miss you here in San Diego!!!   \n",
       "2  088c60f138                          my boss is bullying me...   \n",
       "3  9642c003ef                     what interview! leave me alone   \n",
       "4  358bd9e861   Sons of ****, why couldn`t they put them on t...   \n",
       "\n",
       "                         selected_text sentiment Time of Tweet Age of User  \\\n",
       "0  I`d have responded, if I were going   neutral       morning        0-20   \n",
       "1                             Sooo SAD  negative          noon       21-30   \n",
       "2                          bullying me  negative         night       31-45   \n",
       "3                       leave me alone  negative       morning       46-60   \n",
       "4                        Sons of ****,  negative          noon       60-70   \n",
       "\n",
       "       Country  Population -2020  Land Area (Km²)  Density (P/Km²)  \n",
       "0  Afghanistan          38928346         652860.0               60  \n",
       "1      Albania           2877797          27400.0              105  \n",
       "2      Algeria          43851044        2381740.0               18  \n",
       "3      Andorra             77265            470.0              164  \n",
       "4       Angola          32866272        1246700.0               26  "
      ]
     },
     "execution_count": 3,
     "metadata": {},
     "output_type": "execute_result"
    }
   ],
   "source": [
    "df.head()"
   ]
  },
  {
   "cell_type": "markdown",
   "id": "6ddad23a",
   "metadata": {},
   "source": [
    "***Text Preprocessing And Handiling Imbalance Data(Over sampling)***"
   ]
  },
  {
   "cell_type": "code",
   "execution_count": 4,
   "id": "f5609db8",
   "metadata": {},
   "outputs": [],
   "source": [
    "df.dropna(inplace=True)"
   ]
  },
  {
   "cell_type": "code",
   "execution_count": 5,
   "id": "6062da54",
   "metadata": {},
   "outputs": [],
   "source": [
    "df.replace({'neutral':0,'negative':1,'positive':2},inplace=True)"
   ]
  },
  {
   "cell_type": "code",
   "execution_count": 6,
   "id": "7df87c90",
   "metadata": {},
   "outputs": [],
   "source": [
    "df0_counts,df1_counts,df2_counts = df.sentiment.value_counts()\n",
    "\n",
    "df_over2 = df[df['sentiment']==2]\n",
    "df_over0 = df[df['sentiment']==0]\n",
    "df_over1 = df[df['sentiment']==1]\n",
    "\n",
    "dfover_2 = df_over2.sample(df0_counts,replace=True)\n",
    "dfover_1 = df_over1.sample(df0_counts,replace=True)\n",
    "\n",
    "df = pd.concat([dfover_2,dfover_1,df_over0],axis=0)"
   ]
  },
  {
   "cell_type": "code",
   "execution_count": 7,
   "id": "594bf312",
   "metadata": {},
   "outputs": [
    {
     "data": {
      "text/plain": [
       "2    11117\n",
       "1    11117\n",
       "0    11117\n",
       "Name: sentiment, dtype: int64"
      ]
     },
     "execution_count": 7,
     "metadata": {},
     "output_type": "execute_result"
    }
   ],
   "source": [
    "df.sentiment.value_counts()"
   ]
  },
  {
   "cell_type": "code",
   "execution_count": 8,
   "id": "f28b4452",
   "metadata": {},
   "outputs": [],
   "source": [
    "text_message = df['selected_text'].str.lower()"
   ]
  },
  {
   "cell_type": "code",
   "execution_count": 9,
   "id": "cc06a12f",
   "metadata": {},
   "outputs": [],
   "source": [
    "stemming = PorterStemmer()"
   ]
  },
  {
   "cell_type": "markdown",
   "id": "236b0e3d",
   "metadata": {},
   "source": [
    "***Lowering and Removing unwananted special character***"
   ]
  },
  {
   "cell_type": "code",
   "execution_count": 10,
   "id": "bc86bd4b",
   "metadata": {},
   "outputs": [],
   "source": [
    "corpus = []\n",
    "# Assuming df is your DataFrame\n",
    "for i in text_message:\n",
    "    data = i\n",
    "    text = re.sub('[^a-zA-Z]',' ',str(data))\n",
    "    tex = text.lower()\n",
    "    text = text.strip()\n",
    "#     sen = nltk.word_tokenize(text)\n",
    "#     text = [stemming.stem(word) for word in sen if word not in stopwords.words('english')]\n",
    "#     text = ' '.join(text)\n",
    "    corpus.append(text)"
   ]
  },
  {
   "cell_type": "code",
   "execution_count": 13,
   "id": "2b107a49",
   "metadata": {},
   "outputs": [
    {
     "data": {
      "text/plain": [
       "33351"
      ]
     },
     "execution_count": 13,
     "metadata": {},
     "output_type": "execute_result"
    }
   ],
   "source": [
    "len(corpus)"
   ]
  },
  {
   "cell_type": "code",
   "execution_count": 14,
   "id": "ada3d515",
   "metadata": {},
   "outputs": [
    {
     "data": {
      "text/plain": [
       "'all systems up and running smoothly'"
      ]
     },
     "execution_count": 14,
     "metadata": {},
     "output_type": "execute_result"
    }
   ],
   "source": [
    "corpus[0]"
   ]
  },
  {
   "cell_type": "markdown",
   "id": "f643799f",
   "metadata": {},
   "source": [
    "**One Hot Encoding**"
   ]
  },
  {
   "cell_type": "code",
   "execution_count": 15,
   "id": "97b2086e",
   "metadata": {},
   "outputs": [],
   "source": [
    "vocab_size = 5000"
   ]
  },
  {
   "cell_type": "code",
   "execution_count": 16,
   "id": "e1fb5045",
   "metadata": {},
   "outputs": [],
   "source": [
    "onehot_rep = [one_hot(i,vocab_size) for i in corpus]"
   ]
  },
  {
   "cell_type": "code",
   "execution_count": 104,
   "id": "f93304e1",
   "metadata": {},
   "outputs": [
    {
     "data": {
      "text/plain": [
       "[1110, 3640]"
      ]
     },
     "execution_count": 104,
     "metadata": {},
     "output_type": "execute_result"
    }
   ],
   "source": [
    "onehot_rep[9]"
   ]
  },
  {
   "cell_type": "markdown",
   "id": "ad3fe716",
   "metadata": {},
   "source": [
    "***Pad Sequence For Fixed Length***"
   ]
  },
  {
   "cell_type": "code",
   "execution_count": 18,
   "id": "c86fdc26",
   "metadata": {},
   "outputs": [],
   "source": [
    "max_length = 20\n",
    "\n",
    "embedding_docs = pad_sequences(onehot_rep,padding='post',maxlen=max_length)"
   ]
  },
  {
   "cell_type": "code",
   "execution_count": 19,
   "id": "eb112930",
   "metadata": {},
   "outputs": [
    {
     "data": {
      "text/plain": [
       "(33351, 20)"
      ]
     },
     "execution_count": 19,
     "metadata": {},
     "output_type": "execute_result"
    }
   ],
   "source": [
    "embedding_docs.shape"
   ]
  },
  {
   "cell_type": "markdown",
   "id": "4b09d283",
   "metadata": {},
   "source": [
    "### Model Building"
   ]
  },
  {
   "cell_type": "code",
   "execution_count": 21,
   "id": "46cea419",
   "metadata": {},
   "outputs": [],
   "source": [
    "embedding_vector_features = 100\n",
    "\n",
    "model = Sequential([\n",
    "    Embedding(vocab_size,embedding_vector_features,input_length=max_length),\n",
    "    LSTM(200,return_sequences=True),\n",
    "    LSTM(100),\n",
    "    Dense(3,activation='softmax')\n",
    "])"
   ]
  },
  {
   "cell_type": "code",
   "execution_count": 22,
   "id": "58604c53",
   "metadata": {},
   "outputs": [
    {
     "name": "stdout",
     "output_type": "stream",
     "text": [
      "Model: \"sequential_1\"\n",
      "_________________________________________________________________\n",
      " Layer (type)                Output Shape              Param #   \n",
      "=================================================================\n",
      " embedding_1 (Embedding)     (None, 20, 100)           500000    \n",
      "                                                                 \n",
      " lstm_3 (LSTM)               (None, 20, 200)           240800    \n",
      "                                                                 \n",
      " lstm_4 (LSTM)               (None, 100)               120400    \n",
      "                                                                 \n",
      " dense_1 (Dense)             (None, 3)                 303       \n",
      "                                                                 \n",
      "=================================================================\n",
      "Total params: 861503 (3.29 MB)\n",
      "Trainable params: 861503 (3.29 MB)\n",
      "Non-trainable params: 0 (0.00 Byte)\n",
      "_________________________________________________________________\n"
     ]
    }
   ],
   "source": [
    "model.summary()"
   ]
  },
  {
   "cell_type": "markdown",
   "id": "40e54fda",
   "metadata": {},
   "source": [
    "***compile our model***"
   ]
  },
  {
   "cell_type": "code",
   "execution_count": 23,
   "id": "6228577c",
   "metadata": {},
   "outputs": [],
   "source": [
    "model.compile(optimizer='adam',\n",
    "             loss=tf.keras.losses.SparseCategoricalCrossentropy(),\n",
    "             metrics=['acc'])\n",
    "\n",
    "callback = tf.keras.callbacks.EarlyStopping(monitor='acc',patience=2)"
   ]
  },
  {
   "cell_type": "markdown",
   "id": "25f1afdb",
   "metadata": {},
   "source": [
    "**split into train and test**"
   ]
  },
  {
   "cell_type": "code",
   "execution_count": 24,
   "id": "de7c91e2",
   "metadata": {},
   "outputs": [],
   "source": [
    "x = np.array(embedding_docs)\n",
    "y = np.array(df['sentiment'])\n",
    "\n",
    "from sklearn.model_selection import train_test_split\n",
    "\n",
    "x_train, x_test, y_train, y_test = train_test_split(x, y, test_size=0.2, random_state=42)"
   ]
  },
  {
   "cell_type": "code",
   "execution_count": 25,
   "id": "18992e77",
   "metadata": {},
   "outputs": [
    {
     "data": {
      "text/plain": [
       "(26680, 26680)"
      ]
     },
     "execution_count": 25,
     "metadata": {},
     "output_type": "execute_result"
    }
   ],
   "source": [
    "len(x_train),len(y_train)"
   ]
  },
  {
   "cell_type": "code",
   "execution_count": 26,
   "id": "b3e4b24b",
   "metadata": {},
   "outputs": [
    {
     "data": {
      "text/plain": [
       "((26680, 20), (26680,))"
      ]
     },
     "execution_count": 26,
     "metadata": {},
     "output_type": "execute_result"
    }
   ],
   "source": [
    "x_train.shape,y_train.shape"
   ]
  },
  {
   "cell_type": "markdown",
   "id": "e3dda96c",
   "metadata": {},
   "source": [
    "**train our model**"
   ]
  },
  {
   "cell_type": "code",
   "execution_count": 27,
   "id": "ec316d24",
   "metadata": {},
   "outputs": [
    {
     "name": "stdout",
     "output_type": "stream",
     "text": [
      "Epoch 1/20\n",
      "834/834 [==============================] - 50s 54ms/step - loss: 0.5912 - acc: 0.7553 - val_loss: 0.4494 - val_acc: 0.8329\n",
      "Epoch 2/20\n",
      "834/834 [==============================] - 47s 56ms/step - loss: 0.3910 - acc: 0.8608 - val_loss: 0.4298 - val_acc: 0.8469\n",
      "Epoch 3/20\n",
      "834/834 [==============================] - 47s 56ms/step - loss: 0.3296 - acc: 0.8867 - val_loss: 0.4277 - val_acc: 0.8449\n",
      "Epoch 4/20\n",
      "834/834 [==============================] - 47s 56ms/step - loss: 0.2865 - acc: 0.9022 - val_loss: 0.4405 - val_acc: 0.8552\n",
      "Epoch 5/20\n",
      "834/834 [==============================] - 45s 54ms/step - loss: 0.2474 - acc: 0.9157 - val_loss: 0.4802 - val_acc: 0.8630\n",
      "Epoch 6/20\n",
      "834/834 [==============================] - 58s 69ms/step - loss: 0.2118 - acc: 0.9283 - val_loss: 0.5214 - val_acc: 0.8471\n",
      "Epoch 7/20\n",
      "834/834 [==============================] - 59s 71ms/step - loss: 0.1812 - acc: 0.9404 - val_loss: 0.4523 - val_acc: 0.8693\n",
      "Epoch 8/20\n",
      "834/834 [==============================] - 49s 59ms/step - loss: 0.1539 - acc: 0.9500 - val_loss: 0.4697 - val_acc: 0.8702\n",
      "Epoch 9/20\n",
      "834/834 [==============================] - 47s 56ms/step - loss: 0.1353 - acc: 0.9561 - val_loss: 0.5035 - val_acc: 0.8651\n",
      "Epoch 10/20\n",
      "834/834 [==============================] - 46s 56ms/step - loss: 0.1222 - acc: 0.9603 - val_loss: 0.5071 - val_acc: 0.8724\n",
      "Epoch 11/20\n",
      "834/834 [==============================] - 47s 56ms/step - loss: 0.1069 - acc: 0.9657 - val_loss: 0.5277 - val_acc: 0.8826\n",
      "Epoch 12/20\n",
      "834/834 [==============================] - 46s 56ms/step - loss: 0.0943 - acc: 0.9696 - val_loss: 0.5611 - val_acc: 0.8750\n",
      "Epoch 13/20\n",
      "834/834 [==============================] - 46s 56ms/step - loss: 0.0866 - acc: 0.9721 - val_loss: 0.5996 - val_acc: 0.8693\n",
      "Epoch 14/20\n",
      "834/834 [==============================] - 46s 55ms/step - loss: 0.0845 - acc: 0.9728 - val_loss: 0.6514 - val_acc: 0.8736\n",
      "Epoch 15/20\n",
      "834/834 [==============================] - 47s 56ms/step - loss: 0.0741 - acc: 0.9764 - val_loss: 0.6717 - val_acc: 0.8790\n",
      "Epoch 16/20\n",
      "834/834 [==============================] - 47s 56ms/step - loss: 0.0728 - acc: 0.9764 - val_loss: 0.6468 - val_acc: 0.8709\n",
      "Epoch 17/20\n",
      "834/834 [==============================] - 48s 57ms/step - loss: 0.0668 - acc: 0.9779 - val_loss: 0.6512 - val_acc: 0.8741\n",
      "Epoch 18/20\n",
      "834/834 [==============================] - 47s 57ms/step - loss: 0.0660 - acc: 0.9782 - val_loss: 0.6411 - val_acc: 0.8751\n",
      "Epoch 19/20\n",
      "834/834 [==============================] - 47s 56ms/step - loss: 0.0555 - acc: 0.9817 - val_loss: 0.7242 - val_acc: 0.8840\n",
      "Epoch 20/20\n",
      "834/834 [==============================] - 47s 56ms/step - loss: 0.0545 - acc: 0.9827 - val_loss: 0.6986 - val_acc: 0.8819\n"
     ]
    }
   ],
   "source": [
    "histroy = model.fit(x_train,y_train,validation_data=(x_test,y_test),epochs=20,callbacks=[callback])"
   ]
  },
  {
   "cell_type": "markdown",
   "id": "73a9bf52",
   "metadata": {},
   "source": [
    "**Save our model**"
   ]
  },
  {
   "cell_type": "code",
   "execution_count": 28,
   "id": "fca2f7df",
   "metadata": {},
   "outputs": [],
   "source": [
    "model.save('sentiment analysis LSTM_v1.keras')"
   ]
  },
  {
   "cell_type": "markdown",
   "id": "afb8bfa7",
   "metadata": {},
   "source": [
    "**Evaluate our model**"
   ]
  },
  {
   "cell_type": "code",
   "execution_count": 31,
   "id": "c255baf7",
   "metadata": {},
   "outputs": [
    {
     "name": "stdout",
     "output_type": "stream",
     "text": [
      "209/209 [==============================] - 3s 14ms/step - loss: 0.6986 - acc: 0.8819\n"
     ]
    },
    {
     "data": {
      "text/plain": [
       "[0.6985680460929871, 0.8818767666816711]"
      ]
     },
     "execution_count": 31,
     "metadata": {},
     "output_type": "execute_result"
    }
   ],
   "source": [
    "model.evaluate(x_test,y_test)"
   ]
  },
  {
   "cell_type": "code",
   "execution_count": 79,
   "id": "c522a92a",
   "metadata": {},
   "outputs": [],
   "source": [
    "class_name = ['netural','negative','positive']"
   ]
  },
  {
   "cell_type": "markdown",
   "id": "f145f525",
   "metadata": {},
   "source": [
    "**Lets test and play with our model**"
   ]
  },
  {
   "cell_type": "code",
   "execution_count": 98,
   "id": "cef13502",
   "metadata": {},
   "outputs": [],
   "source": [
    "text = ['why your are bullying me']\n",
    "onehot_re = [one_hot(i,vocab_size) for i in text]\n",
    "\n",
    "embedding_docs = pad_sequences(onehot_re,padding='post',maxlen=max_length)"
   ]
  },
  {
   "cell_type": "code",
   "execution_count": 99,
   "id": "6034cf20",
   "metadata": {},
   "outputs": [
    {
     "data": {
      "text/plain": [
       "array([[2925, 4459, 3925, 2599, 2325,    0,    0,    0,    0,    0,    0,\n",
       "           0,    0,    0,    0,    0,    0,    0,    0,    0]])"
      ]
     },
     "execution_count": 99,
     "metadata": {},
     "output_type": "execute_result"
    }
   ],
   "source": [
    "embedding_docs"
   ]
  },
  {
   "cell_type": "code",
   "execution_count": 100,
   "id": "a7939154",
   "metadata": {},
   "outputs": [
    {
     "name": "stdout",
     "output_type": "stream",
     "text": [
      "1/1 [==============================] - 0s 32ms/step\n"
     ]
    },
    {
     "data": {
      "text/plain": [
       "'negative'"
      ]
     },
     "execution_count": 100,
     "metadata": {},
     "output_type": "execute_result"
    }
   ],
   "source": [
    "class_name[np.argmax(model.predict(embedding_docs))]"
   ]
  },
  {
   "cell_type": "markdown",
   "id": "26e12ea2",
   "metadata": {},
   "source": [
    "Finally the performance of our model is well"
   ]
  }
 ],
 "metadata": {
  "kernelspec": {
   "display_name": "Python 3 (ipykernel)",
   "language": "python",
   "name": "python3"
  },
  "language_info": {
   "codemirror_mode": {
    "name": "ipython",
    "version": 3
   },
   "file_extension": ".py",
   "mimetype": "text/x-python",
   "name": "python",
   "nbconvert_exporter": "python",
   "pygments_lexer": "ipython3",
   "version": "3.9.18"
  }
 },
 "nbformat": 4,
 "nbformat_minor": 5
}
